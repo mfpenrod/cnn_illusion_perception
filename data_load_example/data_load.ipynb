{
 "cells": [
  {
   "cell_type": "code",
   "execution_count": 1,
   "id": "00a4e411",
   "metadata": {},
   "outputs": [],
   "source": [
    "import os\n",
    "import sys\n",
    "sys.path.append('../utils/')\n",
    "\n",
    "import cv2 as cv\n",
    "import numpy as np\n",
    "import matplotlib.pyplot as plt\n",
    "import pickle\n",
    "\n",
    "from data_gen import get_shape_coords, four_plus_poly_points, draw_stripes, generate_illusion_set\n",
    "from save_data import save_dataset"
   ]
  },
  {
   "cell_type": "code",
   "execution_count": 2,
   "id": "0692f7a4",
   "metadata": {},
   "outputs": [],
   "source": [
    "white = (255,255,255)\n",
    "black = (0, 0, 0)\n",
    "red = (255,0,0)\n",
    "green = (0,255,0)\n",
    "blue = (0, 255, 255)\n",
    "gray = (165, 165, 165)\n",
    "\n",
    "IM_DIM = 512\n",
    "CHANNELS = 3\n",
    "bar_width = IM_DIM//32"
   ]
  },
  {
   "cell_type": "code",
   "execution_count": 35,
   "id": "c24e8037",
   "metadata": {},
   "outputs": [],
   "source": [
    "ims = generate_illusion_set(\n",
    "    base_color=black,\n",
    "    shape='square',\n",
    "    shape_color=blue,\n",
    "    shape_size='small',\n",
    "    shape_or='vertical',\n",
    "    stripe_or='horizontal'\n",
    "    )"
   ]
  },
  {
   "cell_type": "code",
   "execution_count": 36,
   "id": "fb147c6c",
   "metadata": {},
   "outputs": [
    {
     "name": "stderr",
     "output_type": "stream",
     "text": [
      "Clipping input data to the valid range for imshow with RGB data ([0..1] for floats or [0..255] for integers).\n",
      "Clipping input data to the valid range for imshow with RGB data ([0..1] for floats or [0..255] for integers).\n",
      "Clipping input data to the valid range for imshow with RGB data ([0..1] for floats or [0..255] for integers).\n"
     ]
    },
    {
     "data": {
      "image/png": "[encoded data removed]",
      "text/plain": [
       "<Figure size 1080x360 with 3 Axes>"
      ]
     },
     "metadata": {
      "needs_background": "light"
     },
     "output_type": "display_data"
    }
   ],
   "source": [
    "fig, axs = plt.subplots(1, 3, figsize=(15,5))\n",
    "labels = ['Base','Non-illusion','Illusion']\n",
    "for i, ax in enumerate(axs):\n",
    "    ax.axis('off')\n",
    "    ax.imshow(ims[i])\n",
    "    ax.set_title(labels[i])"
   ]
  },
  {
   "cell_type": "markdown",
   "id": "687c591b",
   "metadata": {},
   "source": [
    "# Generating dataset"
   ]
  },
  {
   "cell_type": "code",
   "execution_count": 177,
   "id": "87035927",
   "metadata": {},
   "outputs": [],
   "source": [
    "label_dict = {\n",
    "    'square': 0,\n",
    "    'triangle': 1,\n",
    "    'circle': 2,\n",
    "    'pentagon': 3\n",
    "}\n",
    "with open ('/Users/markpenrod/Desktop/illu_data/label_dict.p', 'wb') as f:\n",
    "    pickle.dump(label_dict, f)"
   ]
  },
  {
   "cell_type": "code",
   "execution_count": 71,
   "id": "40e7e434",
   "metadata": {},
   "outputs": [],
   "source": [
    "# randomly flip half the images (so the illusions aren't always on the same side)\n",
    "def flip_im(im, orientation):\n",
    "    if orientation == 'horizontal':\n",
    "        return np.hstack((im[:,IM_DIM//2:,:], im[:,:IM_DIM//2+1,:]))\n",
    "    elif orientation == 'vertical':\n",
    "        return np.vstack((im[IM_DIM//2:,:,:], im[:IM_DIM//2,:,:]))\n",
    "    return"
   ]
  },
  {
   "cell_type": "code",
   "execution_count": 53,
   "id": "0b27ebe1",
   "metadata": {},
   "outputs": [
    {
     "name": "stdout",
     "output_type": "stream",
     "text": [
      "Number of image sets: 864\n"
     ]
    }
   ],
   "source": [
    "# Generate data set\n",
    "base_colors = [white, black] # determines whether illusion makes object lighter or darker, respectively\n",
    "shapes = ['circle', 'square', 'triangle', 'pentagon']\n",
    "colors = [blue, red, green, gray]\n",
    "shape_sizes = ['small', 'normal', 'large']\n",
    "shape_ors = ['vertical', 'horizontal', 'diagonal']\n",
    "stripe_ors = ['vertical', 'horizontal', 'diagonal']\n",
    "n_image_sets = len(base_colors) * len(shapes) * len(colors) * len(shape_sizes) * len(shape_ors) * len(stripe_ors)\n",
    "print(f'Number of image sets: {n_image_sets}')"
   ]
  },
  {
   "cell_type": "code",
   "execution_count": 33,
   "id": "93281653",
   "metadata": {},
   "outputs": [],
   "source": [
    "data_path = '/Users/markpenrod/Desktop/illu_data'\n",
    "os.mkdir(data_path)\n",
    "bases_path = data_path + '/bases'\n",
    "non_illus_path = data_path + '/non_illu'\n",
    "illus_path = data_path + '/illu'\n",
    "\n",
    "paths = [bases_path, non_illus_path, illus_path]\n",
    "for path in paths:\n",
    "    os.mkdir(path)\n",
    "headers = ['base', 'nonillu', 'illu']"
   ]
  },
  {
   "cell_type": "code",
   "execution_count": null,
   "id": "ce978662",
   "metadata": {},
   "outputs": [],
   "source": [
    "save_dataset(data_path)"
   ]
  },
  {
   "cell_type": "markdown",
   "id": "25df29d7",
   "metadata": {},
   "source": [
    "**Test load data**"
   ]
  },
  {
   "cell_type": "code",
   "execution_count": 172,
   "id": "c1e4eaec",
   "metadata": {},
   "outputs": [],
   "source": [
    "random_ind = int(np.random.uniform(0, n_image_sets))"
   ]
  },
  {
   "cell_type": "code",
   "execution_count": 173,
   "id": "5ac1e52f",
   "metadata": {},
   "outputs": [],
   "source": [
    "test_ims = []\n",
    "for path in paths:\n",
    "    im_path = path + '/' + sorted(os.listdir(path), key=lambda x: int(x.split('_')[1]))[random_ind]\n",
    "    with open(im_path, 'rb') as f:\n",
    "        im = pickle.load(f)\n",
    "        test_ims.append(im)"
   ]
  },
  {
   "cell_type": "code",
   "execution_count": 174,
   "id": "ba923f30",
   "metadata": {},
   "outputs": [
    {
     "data": {
      "image/png": "[encoded data removed]",
      "text/plain": [
       "<Figure size 1080x360 with 3 Axes>"
      ]
     },
     "metadata": {
      "needs_background": "light"
     },
     "output_type": "display_data"
    }
   ],
   "source": [
    "fig, axs = plt.subplots(1, 3, figsize=(15,5))\n",
    "labels = ['Base','Non-illusion','Illusion']\n",
    "fig.suptitle('Loading Saved Images (Sanity Check)')\n",
    "for i, ax in enumerate(axs):\n",
    "    ax.axis('off')\n",
    "    ax.imshow(test_ims[i])\n",
    "    ax.set_title(labels[i])"
   ]
  }
 ],
 "metadata": {
  "kernelspec": {
   "display_name": "Python 3 (ipykernel)",
   "language": "python",
   "name": "python3"
  },
  "language_info": {
   "codemirror_mode": {
    "name": "ipython",
    "version": 3
   },
   "file_extension": ".py",
   "mimetype": "text/x-python",
   "name": "python",
   "nbconvert_exporter": "python",
   "pygments_lexer": "ipython3",
   "version": "3.7.7"
  }
 },
 "nbformat": 4,
 "nbformat_minor": 5
}
